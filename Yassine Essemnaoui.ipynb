{
 "cells": [
  {
   "cell_type": "code",
   "execution_count": 95,
   "id": "bd8c98f2",
   "metadata": {},
   "outputs": [
    {
     "name": "stdout",
     "output_type": "stream",
     "text": [
      "Requirement already satisfied: pandas in c:\\users\\ss lakhouadra\\anaconda3\\lib\\site-packages (1.4.2)"
     ]
    }
   ],
   "source": [
    "!pip install pandas"
   ]
  },
  {
   "cell_type": "code",
   "execution_count": 96,
   "id": "1dbb4169",
   "metadata": {},
   "outputs": [
    {
     "name": "stdout",
     "output_type": "stream",
     "text": [
      "\n",
      "Requirement already satisfied: python-dateutil>=2.8.1 in c:\\users\\ss lakhouadra\\anaconda3\\lib\\site-packages (from pandas) (2.8.2)\n",
      "Requirement already satisfied: pytz>=2020.1 in c:\\users\\ss lakhouadra\\anaconda3\\lib\\site-packages (from pandas) (2021.3)\n",
      "Requirement already satisfied: numpy>=1.18.5 in c:\\users\\ss lakhouadra\\anaconda3\\lib\\site-packages (from pandas) (1.21.5)\n",
      "Requirement already satisfied: six>=1.5 in c:\\users\\ss lakhouadra\\anaconda3\\lib\\site-packages (from python-dateutil>=2.8.1->pandas) (1.16.0)\n",
      "Requirement already satisfied: matplotlib in c:\\users\\ss lakhouadra\\anaconda3\\lib\\site-packages (3.5.1)\n",
      "Requirement already satisfied: python-dateutil>=2.7 in c:\\users\\ss lakhouadra\\anaconda3\\lib\\site-packages (from matplotlib) (2.8.2)\n",
      "Requirement already satisfied: fonttools>=4.22.0 in c:\\users\\ss lakhouadra\\anaconda3\\lib\\site-packages (from matplotlib) (4.25.0)\n",
      "Requirement already satisfied: kiwisolver>=1.0.1 in c:\\users\\ss lakhouadra\\anaconda3\\lib\\site-packages (from matplotlib) (1.3.2)\n",
      "Requirement already satisfied: packaging>=20.0 in c:\\users\\ss lakhouadra\\anaconda3\\lib\\site-packages (from matplotlib) (21.3)\n",
      "Requirement already satisfied: numpy>=1.17 in c:\\users\\ss lakhouadra\\anaconda3\\lib\\site-packages (from matplotlib) (1.21.5)\n",
      "Requirement already satisfied: pillow>=6.2.0 in c:\\users\\ss lakhouadra\\anaconda3\\lib\\site-packages (from matplotlib) (9.0.1)\n",
      "Requirement already satisfied: pyparsing>=2.2.1 in c:\\users\\ss lakhouadra\\anaconda3\\lib\\site-packages (from matplotlib) (3.0.4)\n",
      "Requirement already satisfied: cycler>=0.10 in c:\\users\\ss lakhouadra\\anaconda3\\lib\\site-packages (from matplotlib) (0.11.0)\n",
      "Requirement already satisfied: six>=1.5 in c:\\users\\ss lakhouadra\\anaconda3\\lib\\site-packages (from python-dateutil>=2.7->matplotlib) (1.16.0)\n"
     ]
    }
   ],
   "source": [
    "!pip install matplotlib"
   ]
  },
  {
   "cell_type": "markdown",
   "id": "f1eaf442",
   "metadata": {},
   "source": [
    "### > import libraies"
   ]
  },
  {
   "cell_type": "code",
   "execution_count": 97,
   "id": "62b68ab6",
   "metadata": {},
   "outputs": [],
   "source": [
    "import pandas as pd\n",
    "import numpy as np\n",
    "import matplotlib.pyplot as plt"
   ]
  },
  {
   "cell_type": "markdown",
   "id": "de08a08f",
   "metadata": {},
   "source": [
    "### > read data from csv file"
   ]
  },
  {
   "cell_type": "code",
   "execution_count": 98,
   "id": "346a47be",
   "metadata": {
    "scrolled": true
   },
   "outputs": [],
   "source": [
    "data = pd.read_csv(r\"dataset-sell4all.csv\")"
   ]
  },
  {
   "cell_type": "markdown",
   "id": "fe261144",
   "metadata": {},
   "source": [
    "### > show first 5 lines"
   ]
  },
  {
   "cell_type": "code",
   "execution_count": 99,
   "id": "475a6325",
   "metadata": {},
   "outputs": [
    {
     "data": {
      "text/html": [
       "<div>\n",
       "<style scoped>\n",
       "    .dataframe tbody tr th:only-of-type {\n",
       "        vertical-align: middle;\n",
       "    }\n",
       "\n",
       "    .dataframe tbody tr th {\n",
       "        vertical-align: top;\n",
       "    }\n",
       "\n",
       "    .dataframe thead th {\n",
       "        text-align: right;\n",
       "    }\n",
       "</style>\n",
       "<table border=\"1\" class=\"dataframe\">\n",
       "  <thead>\n",
       "    <tr style=\"text-align: right;\">\n",
       "      <th></th>\n",
       "      <th>Name</th>\n",
       "      <th>Phone Number</th>\n",
       "      <th>Email</th>\n",
       "      <th>Address</th>\n",
       "      <th>Country</th>\n",
       "      <th>Postal code</th>\n",
       "      <th>Last date of connection</th>\n",
       "      <th>Last time of connection</th>\n",
       "      <th>Age</th>\n",
       "      <th>Gender</th>\n",
       "      <th>Customer spendings</th>\n",
       "    </tr>\n",
       "  </thead>\n",
       "  <tbody>\n",
       "    <tr>\n",
       "      <th>0</th>\n",
       "      <td>Aaron Cote</td>\n",
       "      <td>966-7625</td>\n",
       "      <td>elit@hotmail.org</td>\n",
       "      <td>699-5837 Risus Street</td>\n",
       "      <td>Norway</td>\n",
       "      <td>4126</td>\n",
       "      <td>5-Apr-21</td>\n",
       "      <td>4:39</td>\n",
       "      <td>71</td>\n",
       "      <td>Man</td>\n",
       "      <td>356</td>\n",
       "    </tr>\n",
       "    <tr>\n",
       "      <th>1</th>\n",
       "      <td>Angelica Lawson</td>\n",
       "      <td>232-3051</td>\n",
       "      <td>diam.proin@google.org</td>\n",
       "      <td>481-8428 Magna. Street</td>\n",
       "      <td>Pakistan</td>\n",
       "      <td>518885</td>\n",
       "      <td>oct. 10, 2021</td>\n",
       "      <td>0:36</td>\n",
       "      <td>37</td>\n",
       "      <td>Women</td>\n",
       "      <td>173</td>\n",
       "    </tr>\n",
       "    <tr>\n",
       "      <th>2</th>\n",
       "      <td>Louis Gilbert</td>\n",
       "      <td>1-997-733-0134</td>\n",
       "      <td>lorem.fringilla@hotmail.org</td>\n",
       "      <td>Ap #192-2082 Enim. Ave</td>\n",
       "      <td>Colombia</td>\n",
       "      <td>575444</td>\n",
       "      <td>2-Jul-22</td>\n",
       "      <td>3:37</td>\n",
       "      <td>24</td>\n",
       "      <td>Women</td>\n",
       "      <td>105</td>\n",
       "    </tr>\n",
       "    <tr>\n",
       "      <th>3</th>\n",
       "      <td>Basia Finley</td>\n",
       "      <td>1-987-322-7148</td>\n",
       "      <td>tristique.aliquet@icloud.co</td>\n",
       "      <td>608-2732 Nec Rd.</td>\n",
       "      <td>South Africa</td>\n",
       "      <td>5973-5765</td>\n",
       "      <td>19-Feb-22</td>\n",
       "      <td>2:34</td>\n",
       "      <td>37</td>\n",
       "      <td>Women</td>\n",
       "      <td>28</td>\n",
       "    </tr>\n",
       "    <tr>\n",
       "      <th>4</th>\n",
       "      <td>Rhona Sears</td>\n",
       "      <td>387-7682</td>\n",
       "      <td>iaculis.odio.nam@protonmail.org</td>\n",
       "      <td>8763 In Rd.</td>\n",
       "      <td>France</td>\n",
       "      <td>37476</td>\n",
       "      <td>31-Mar-22</td>\n",
       "      <td>6:28</td>\n",
       "      <td>42</td>\n",
       "      <td>Women</td>\n",
       "      <td>13</td>\n",
       "    </tr>\n",
       "  </tbody>\n",
       "</table>\n",
       "</div>"
      ],
      "text/plain": [
       "              Name    Phone Number                            Email  \\\n",
       "0       Aaron Cote        966-7625                 elit@hotmail.org   \n",
       "1  Angelica Lawson        232-3051            diam.proin@google.org   \n",
       "2    Louis Gilbert  1-997-733-0134      lorem.fringilla@hotmail.org   \n",
       "3     Basia Finley  1-987-322-7148      tristique.aliquet@icloud.co   \n",
       "4      Rhona Sears        387-7682  iaculis.odio.nam@protonmail.org   \n",
       "\n",
       "                  Address       Country Postal code Last date of connection  \\\n",
       "0   699-5837 Risus Street        Norway        4126                5-Apr-21   \n",
       "1  481-8428 Magna. Street      Pakistan      518885           oct. 10, 2021   \n",
       "2  Ap #192-2082 Enim. Ave      Colombia      575444                2-Jul-22   \n",
       "3        608-2732 Nec Rd.  South Africa   5973-5765               19-Feb-22   \n",
       "4             8763 In Rd.        France       37476               31-Mar-22   \n",
       "\n",
       "  Last time of connection  Age Gender  Customer spendings  \n",
       "0                    4:39   71    Man                 356  \n",
       "1                    0:36   37  Women                 173  \n",
       "2                    3:37   24  Women                 105  \n",
       "3                    2:34   37  Women                  28  \n",
       "4                    6:28   42  Women                  13  "
      ]
     },
     "execution_count": 99,
     "metadata": {},
     "output_type": "execute_result"
    }
   ],
   "source": [
    "data.head()"
   ]
  },
  {
   "cell_type": "markdown",
   "id": "99c41fc1",
   "metadata": {},
   "source": [
    "### > technical summary"
   ]
  },
  {
   "cell_type": "code",
   "execution_count": 111,
   "id": "2526da63",
   "metadata": {
    "scrolled": true
   },
   "outputs": [
    {
     "data": {
      "text/plain": [
       "Name                       object\n",
       "Phone Number               object\n",
       "Email                      object\n",
       "Address                    object\n",
       "Country                    object\n",
       "Postal code                object\n",
       "Last date of connection    object\n",
       "Last time of connection    object\n",
       "Age                         int64\n",
       "Gender                     object\n",
       "Customer spendings          int64\n",
       "dtype: object"
      ]
     },
     "execution_count": 111,
     "metadata": {},
     "output_type": "execute_result"
    }
   ],
   "source": [
    "# data type of each field\n",
    "data.dtypes"
   ]
  },
  {
   "cell_type": "markdown",
   "id": "629e5648",
   "metadata": {},
   "source": [
    "- **(O)     : means objects**\n",
    "- **(int64) : means intiger**- \n",
    "- **(int64) : means intiger**"
   ]
  },
  {
   "cell_type": "code",
   "execution_count": 101,
   "id": "bf8f34bb",
   "metadata": {},
   "outputs": [
    {
     "data": {
      "text/plain": [
       "(505, 11)"
      ]
     },
     "execution_count": 101,
     "metadata": {},
     "output_type": "execute_result"
    }
   ],
   "source": [
    "# rows and columns number\n",
    "data.shape"
   ]
  },
  {
   "cell_type": "markdown",
   "id": "4d67737a",
   "metadata": {},
   "source": [
    "**DataFrame is a 2 dimensional data structure thats why the result contain two numbers :**\n",
    "- **(505) is the number of rows**\n",
    "- **(11) is the number of columns**"
   ]
  },
  {
   "cell_type": "markdown",
   "id": "5344a53c",
   "metadata": {},
   "source": [
    "### > calculate the mean and median of age Customer spendings :"
   ]
  },
  {
   "cell_type": "markdown",
   "id": "73bd4b00",
   "metadata": {},
   "source": [
    "- **the mean**"
   ]
  },
  {
   "cell_type": "code",
   "execution_count": 102,
   "id": "9ee89fb0",
   "metadata": {},
   "outputs": [
    {
     "data": {
      "text/plain": [
       "Age                    46.083168\n",
       "Customer spendings    311.168317\n",
       "dtype: float64"
      ]
     },
     "execution_count": 102,
     "metadata": {},
     "output_type": "execute_result"
    }
   ],
   "source": [
    "data[[\"Age\" , \"Customer spendings\"]].mean()"
   ]
  },
  {
   "cell_type": "markdown",
   "id": "fb72045d",
   "metadata": {},
   "source": [
    "- **The median**"
   ]
  },
  {
   "cell_type": "code",
   "execution_count": 103,
   "id": "57fb8f2e",
   "metadata": {},
   "outputs": [
    {
     "data": {
      "text/plain": [
       "Age                    46.0\n",
       "Customer spendings    307.0\n",
       "dtype: float64"
      ]
     },
     "execution_count": 103,
     "metadata": {},
     "output_type": "execute_result"
    }
   ],
   "source": [
    "data[[\"Age\" , \"Customer spendings\"]].median()"
   ]
  },
  {
   "cell_type": "markdown",
   "id": "9931033a",
   "metadata": {},
   "source": [
    "### > calculate the median of age for each country"
   ]
  },
  {
   "cell_type": "code",
   "execution_count": 104,
   "id": "1c1eabd5",
   "metadata": {},
   "outputs": [
    {
     "data": {
      "text/html": [
       "<div>\n",
       "<style scoped>\n",
       "    .dataframe tbody tr th:only-of-type {\n",
       "        vertical-align: middle;\n",
       "    }\n",
       "\n",
       "    .dataframe tbody tr th {\n",
       "        vertical-align: top;\n",
       "    }\n",
       "\n",
       "    .dataframe thead th {\n",
       "        text-align: right;\n",
       "    }\n",
       "</style>\n",
       "<table border=\"1\" class=\"dataframe\">\n",
       "  <thead>\n",
       "    <tr style=\"text-align: right;\">\n",
       "      <th></th>\n",
       "      <th>Age</th>\n",
       "    </tr>\n",
       "    <tr>\n",
       "      <th>Country</th>\n",
       "      <th></th>\n",
       "    </tr>\n",
       "  </thead>\n",
       "  <tbody>\n",
       "    <tr>\n",
       "      <th>Australia</th>\n",
       "      <td>44.0</td>\n",
       "    </tr>\n",
       "    <tr>\n",
       "      <th>Austria</th>\n",
       "      <td>43.0</td>\n",
       "    </tr>\n",
       "    <tr>\n",
       "      <th>Belgium</th>\n",
       "      <td>39.0</td>\n",
       "    </tr>\n",
       "    <tr>\n",
       "      <th>Brazil</th>\n",
       "      <td>49.5</td>\n",
       "    </tr>\n",
       "    <tr>\n",
       "      <th>Canada</th>\n",
       "      <td>46.0</td>\n",
       "    </tr>\n",
       "    <tr>\n",
       "      <th>Chile</th>\n",
       "      <td>46.0</td>\n",
       "    </tr>\n",
       "    <tr>\n",
       "      <th>China</th>\n",
       "      <td>35.0</td>\n",
       "    </tr>\n",
       "    <tr>\n",
       "      <th>Colombia</th>\n",
       "      <td>29.0</td>\n",
       "    </tr>\n",
       "    <tr>\n",
       "      <th>Costa Rica</th>\n",
       "      <td>48.0</td>\n",
       "    </tr>\n",
       "    <tr>\n",
       "      <th>France</th>\n",
       "      <td>56.5</td>\n",
       "    </tr>\n",
       "    <tr>\n",
       "      <th>Germany</th>\n",
       "      <td>53.0</td>\n",
       "    </tr>\n",
       "    <tr>\n",
       "      <th>India</th>\n",
       "      <td>45.5</td>\n",
       "    </tr>\n",
       "    <tr>\n",
       "      <th>Indonesia</th>\n",
       "      <td>41.5</td>\n",
       "    </tr>\n",
       "    <tr>\n",
       "      <th>Ireland</th>\n",
       "      <td>49.0</td>\n",
       "    </tr>\n",
       "    <tr>\n",
       "      <th>Italy</th>\n",
       "      <td>41.0</td>\n",
       "    </tr>\n",
       "    <tr>\n",
       "      <th>Mexico</th>\n",
       "      <td>47.0</td>\n",
       "    </tr>\n",
       "    <tr>\n",
       "      <th>Netherlands</th>\n",
       "      <td>48.0</td>\n",
       "    </tr>\n",
       "    <tr>\n",
       "      <th>New Zealand</th>\n",
       "      <td>38.0</td>\n",
       "    </tr>\n",
       "    <tr>\n",
       "      <th>Nigeria</th>\n",
       "      <td>37.0</td>\n",
       "    </tr>\n",
       "    <tr>\n",
       "      <th>Norway</th>\n",
       "      <td>54.0</td>\n",
       "    </tr>\n",
       "    <tr>\n",
       "      <th>Pakistan</th>\n",
       "      <td>44.0</td>\n",
       "    </tr>\n",
       "    <tr>\n",
       "      <th>Peru</th>\n",
       "      <td>38.0</td>\n",
       "    </tr>\n",
       "    <tr>\n",
       "      <th>Philippines</th>\n",
       "      <td>51.0</td>\n",
       "    </tr>\n",
       "    <tr>\n",
       "      <th>Poland</th>\n",
       "      <td>49.5</td>\n",
       "    </tr>\n",
       "    <tr>\n",
       "      <th>Russian Federation</th>\n",
       "      <td>48.0</td>\n",
       "    </tr>\n",
       "    <tr>\n",
       "      <th>Singapore</th>\n",
       "      <td>41.5</td>\n",
       "    </tr>\n",
       "    <tr>\n",
       "      <th>South Africa</th>\n",
       "      <td>43.0</td>\n",
       "    </tr>\n",
       "    <tr>\n",
       "      <th>South Korea</th>\n",
       "      <td>49.5</td>\n",
       "    </tr>\n",
       "    <tr>\n",
       "      <th>Spain</th>\n",
       "      <td>54.5</td>\n",
       "    </tr>\n",
       "    <tr>\n",
       "      <th>Sweden</th>\n",
       "      <td>40.0</td>\n",
       "    </tr>\n",
       "    <tr>\n",
       "      <th>Turkey</th>\n",
       "      <td>60.0</td>\n",
       "    </tr>\n",
       "    <tr>\n",
       "      <th>Ukraine</th>\n",
       "      <td>46.0</td>\n",
       "    </tr>\n",
       "    <tr>\n",
       "      <th>United Kingdom</th>\n",
       "      <td>48.5</td>\n",
       "    </tr>\n",
       "    <tr>\n",
       "      <th>United States</th>\n",
       "      <td>48.5</td>\n",
       "    </tr>\n",
       "    <tr>\n",
       "      <th>Vietnam</th>\n",
       "      <td>48.0</td>\n",
       "    </tr>\n",
       "  </tbody>\n",
       "</table>\n",
       "</div>"
      ],
      "text/plain": [
       "                     Age\n",
       "Country                 \n",
       "Australia           44.0\n",
       "Austria             43.0\n",
       "Belgium             39.0\n",
       "Brazil              49.5\n",
       "Canada              46.0\n",
       "Chile               46.0\n",
       "China               35.0\n",
       "Colombia            29.0\n",
       "Costa Rica          48.0\n",
       "France              56.5\n",
       "Germany             53.0\n",
       "India               45.5\n",
       "Indonesia           41.5\n",
       "Ireland             49.0\n",
       "Italy               41.0\n",
       "Mexico              47.0\n",
       "Netherlands         48.0\n",
       "New Zealand         38.0\n",
       "Nigeria             37.0\n",
       "Norway              54.0\n",
       "Pakistan            44.0\n",
       "Peru                38.0\n",
       "Philippines         51.0\n",
       "Poland              49.5\n",
       "Russian Federation  48.0\n",
       "Singapore           41.5\n",
       "South Africa        43.0\n",
       "South Korea         49.5\n",
       "Spain               54.5\n",
       "Sweden              40.0\n",
       "Turkey              60.0\n",
       "Ukraine             46.0\n",
       "United Kingdom      48.5\n",
       "United States       48.5\n",
       "Vietnam             48.0"
      ]
     },
     "execution_count": 104,
     "metadata": {},
     "output_type": "execute_result"
    }
   ],
   "source": [
    "data[[\"Age\" , \"Country\"]].groupby(\"Country\").median()"
   ]
  },
  {
   "cell_type": "markdown",
   "id": "78d88af0",
   "metadata": {},
   "source": [
    "### > Create a bar chart shows customer spend by country"
   ]
  },
  {
   "cell_type": "code",
   "execution_count": 105,
   "id": "115c8ae6",
   "metadata": {},
   "outputs": [
    {
     "data": {
      "image/png": "[encoded data removed]",
      "text/plain": [
       "<Figure size 432x288 with 1 Axes>"
      ]
     },
     "metadata": {
      "needs_background": "light"
     },
     "output_type": "display_data"
    }
   ],
   "source": [
    "country_spend = data[[\"Country\" , \"Customer spendings\"]]\n",
    "country_spend.plot(x='Country', y='Customer spendings', kind='bar')\n",
    "plt.show()"
   ]
  },
  {
   "cell_type": "markdown",
   "id": "48f2d524",
   "metadata": {},
   "source": [
    "### > store duplicated and less than 10 € lines in a new csv file "
   ]
  },
  {
   "cell_type": "code",
   "execution_count": 107,
   "id": "3415ecd0",
   "metadata": {},
   "outputs": [],
   "source": [
    "lessten = data[(data[\"Customer spendings\"])<10]\n",
    "duplicated = data[data.duplicated()]\n",
    "\n",
    "newdatafile = pd.concat([lessten, duplicated])\n",
    "\n",
    "newdatafile.to_csv('new_data_file.csv',columns=['Country','Age','Gender','Customer spendings'])"
   ]
  },
  {
   "cell_type": "markdown",
   "id": "86443165",
   "metadata": {},
   "source": [
    "### > delete duplicated and less than 10 € lines"
   ]
  },
  {
   "cell_type": "code",
   "execution_count": 108,
   "id": "f48bdcc4",
   "metadata": {},
   "outputs": [
    {
     "data": {
      "text/plain": [
       "(497, 11)"
      ]
     },
     "execution_count": 108,
     "metadata": {},
     "output_type": "execute_result"
    }
   ],
   "source": [
    "data = data.drop(index=(lessten.index))\n",
    "data = data.drop(index=(duplicated.index))\n",
    "\n",
    "#to check\n",
    "data.shape"
   ]
  },
  {
   "cell_type": "markdown",
   "id": "8f9d4390",
   "metadata": {},
   "source": [
    "#### ------------------------------------------------------\n",
    "\n",
    "## Resources :\n",
    "- https://note.nkmk.me/en/python-pandas-multiple-conditions/\n",
    "- https://pandas.pydata.org/docs/getting_started/index.html#getting-started\n",
    "- https://www.youtube.com/watch?v=ClNP-lTzKgI&list=WL&index=2\n",
    "- https://www.youtube.com/watch?v=upYyREb2xI8&list=WL&index=4\n",
    "\n",
    "## Technologies :\n",
    "#### Python, Anaconda, Jupyter Notebook, pandas, matplotlib"
   ]
  },
  {
   "cell_type": "markdown",
   "id": "31bc4aa4",
   "metadata": {},
   "source": []
  },
  {
   "cell_type": "code",
   "execution_count": null,
   "id": "1858033f",
   "metadata": {},
   "outputs": [],
   "source": []
  }
 ],
 "metadata": {
  "kernelspec": {
   "display_name": "Python 3 (ipykernel)",
   "language": "python",
   "name": "python3"
  },
  "language_info": {
   "codemirror_mode": {
    "name": "ipython",
    "version": 3
   },
   "file_extension": ".py",
   "mimetype": "text/x-python",
   "name": "python",
   "nbconvert_exporter": "python",
   "pygments_lexer": "ipython3",
   "version": "3.9.12"
  }
 },
 "nbformat": 4,
 "nbformat_minor": 5
}
